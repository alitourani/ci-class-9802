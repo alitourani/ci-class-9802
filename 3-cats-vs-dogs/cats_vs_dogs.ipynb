{
  "nbformat": 4,
  "nbformat_minor": 0,
  "metadata": {
    "colab": {
      "name": "cats_vs_dogs.ipynb",
      "provenance": [],
      "collapsed_sections": []
    },
    "kernelspec": {
      "name": "python3",
      "display_name": "Python 3"
    },
    "accelerator": "GPU"
  },
  "cells": [
    {
      "cell_type": "code",
      "metadata": {
        "id": "1NnexSIE8NEC",
        "colab_type": "code",
        "colab": {
          "base_uri": "https://localhost:8080/",
          "height": 35
        },
        "outputId": "96fe05b2-6ce7-460a-b29a-3e59f6d9970b"
      },
      "source": [
        "from google.colab import drive\n",
        "drive.mount('/content/drive')"
      ],
      "execution_count": null,
      "outputs": [
        {
          "output_type": "stream",
          "text": [
            "Drive already mounted at /content/drive; to attempt to forcibly remount, call drive.mount(\"/content/drive\", force_remount=True).\n"
          ],
          "name": "stdout"
        }
      ]
    },
    {
      "cell_type": "code",
      "metadata": {
        "id": "WGicchSI83dO",
        "colab_type": "code",
        "colab": {
          "base_uri": "https://localhost:8080/",
          "height": 35
        },
        "outputId": "6a53998e-600b-4053-db61-47045def8c7d"
      },
      "source": [
        "from os import listdir \n",
        "import numpy as np \n",
        "from PIL import Image \n",
        "import tensorflow as tf \n",
        "import keras \n",
        "from keras.applications.vgg16 import VGG16 \n",
        "from sklearn.model_selection import train_test_split \n",
        "from keras.models import load_model "
      ],
      "execution_count": null,
      "outputs": [
        {
          "output_type": "stream",
          "text": [
            "Using TensorFlow backend.\n"
          ],
          "name": "stderr"
        }
      ]
    },
    {
      "cell_type": "code",
      "metadata": {
        "id": "chVScm9C9ns9",
        "colab_type": "code",
        "colab": {}
      },
      "source": [
        "cats_path = '/content/drive/My Drive/BCI982/Cats/'\n",
        "dogs_path = '/content/drive/My Drive/BCI982/Dogs/'\n",
        "cats_img, dogs_img = [], []"
      ],
      "execution_count": null,
      "outputs": []
    },
    {
      "cell_type": "code",
      "metadata": {
        "id": "tQtgPoLl90YI",
        "colab_type": "code",
        "colab": {
          "base_uri": "https://localhost:8080/",
          "height": 52
        },
        "outputId": "ffebe9db-c780-4936-c3af-bb1e455b24be"
      },
      "source": [
        "\n",
        "for i, each in enumerate(listdir(cats_path)):\n",
        "    try:\n",
        "        img= Image.open(cats_path + each)\n",
        "        img = img.resize((224, 224))\n",
        "        img= np.array(img) / 255.\n",
        "        if img.shape == (224,224,3):\n",
        "            cats_img.append(img)\n",
        "    except:\n",
        "        print(\"ignored loading\", each)\n",
        "print(len(cats_img), 'cats done')\n",
        "\n",
        "\n",
        "for i, each in enumerate(listdir(dogs_path)):\n",
        "    try:\n",
        "        img= Image.open(dogs_path + each)\n",
        "        img = img.resize((224, 224))\n",
        "        img= np.array(img) / 255.\n",
        "        if img.shape == (224,224,3):\n",
        "            dogs_img.append(img)\n",
        "    except:\n",
        "        print(\"ignored loading\", each)\n",
        "print(len(dogs_img), 'dogs done')"
      ],
      "execution_count": null,
      "outputs": [
        {
          "output_type": "stream",
          "text": [
            "100 cats done\n",
            "100 dogs done\n"
          ],
          "name": "stdout"
        }
      ]
    },
    {
      "cell_type": "markdown",
      "metadata": {
        "id": "SZmKKyulE62A",
        "colab_type": "text"
      },
      "source": [
        ""
      ]
    },
    {
      "cell_type": "code",
      "metadata": {
        "id": "crNoHoTV-ZqS",
        "colab_type": "code",
        "colab": {
          "base_uri": "https://localhost:8080/",
          "height": 35
        },
        "outputId": "e7c00700-2339-4d88-e662-7194093ecbd4"
      },
      "source": [
        "X = cats_img + dogs_img \n",
        "y = [0] * len(cats_img) + [1] * len(dogs_img) \n",
        "X_train, X_test, y_train, y_test = train_test_split(X, y, test_size=0.2, shuffle=True) \n",
        "X_test, X_val, y_test, y_val = train_test_split(X_test, y_test, test_size=0.5, shuffle=True) \n",
        "print(len(X_train), len(y_train), len(X_val), len(y_val), len(X_test), len(y_test))"
      ],
      "execution_count": null,
      "outputs": [
        {
          "output_type": "stream",
          "text": [
            "160 160 20 20 20 20\n"
          ],
          "name": "stdout"
        }
      ]
    },
    {
      "cell_type": "code",
      "metadata": {
        "id": "TsjVBRmb-kAc",
        "colab_type": "code",
        "colab": {
          "base_uri": "https://localhost:8080/",
          "height": 69
        },
        "outputId": "2564f7eb-ce97-4952-e7ee-518c790ff549"
      },
      "source": [
        "X_train = np.array(X_train)\n",
        "y_train = np.array(y_train)\n",
        "X_val = np.array(X_val)\n",
        "y_val = np.array(y_val)\n",
        "X_test = np.array(X_test)\n",
        "y_test = np.array(y_test)\n",
        "print('Train :', X_train.shape, y_train.shape) \n",
        "print('Val :', X_val.shape, y_val.shape)\n",
        "print('Test :', X_test.shape, y_test.shape)"
      ],
      "execution_count": null,
      "outputs": [
        {
          "output_type": "stream",
          "text": [
            "Train : (160, 224, 224, 3) (160,)\n",
            "Val : (20, 224, 224, 3) (20,)\n",
            "Test : (20, 224, 224, 3) (20,)\n"
          ],
          "name": "stdout"
        }
      ]
    },
    {
      "cell_type": "code",
      "metadata": {
        "id": "ZE4tTvTh_DYX",
        "colab_type": "code",
        "colab": {
          "base_uri": "https://localhost:8080/",
          "height": 953
        },
        "outputId": "ef0fddf1-3b6e-48a6-f789-90b0be9a8a4e"
      },
      "source": [
        "model = VGG16(include_top=False, weights='imagenet', input_shape=(224, 224, 3)) \n",
        "for each_layer in model.layers: \n",
        "    each_layer.trainable = False\n",
        "interaction_output = model.layers[-1].output \n",
        "x = keras.layers.Flatten()(interaction_output) \n",
        "x = keras.layers.Dense(1024, activation=\"relu\")(x) \n",
        "x = keras.layers.Dense(1, activation=\"sigmoid\")(x) \n",
        "model = keras.Model(model.input, x) \n",
        "model.summary() "
      ],
      "execution_count": null,
      "outputs": [
        {
          "output_type": "stream",
          "text": [
            "Downloading data from https://github.com/fchollet/deep-learning-models/releases/download/v0.1/vgg16_weights_tf_dim_ordering_tf_kernels_notop.h5\n",
            "58892288/58889256 [==============================] - 1s 0us/step\n",
            "Model: \"model_1\"\n",
            "_________________________________________________________________\n",
            "Layer (type)                 Output Shape              Param #   \n",
            "=================================================================\n",
            "input_1 (InputLayer)         (None, 224, 224, 3)       0         \n",
            "_________________________________________________________________\n",
            "block1_conv1 (Conv2D)        (None, 224, 224, 64)      1792      \n",
            "_________________________________________________________________\n",
            "block1_conv2 (Conv2D)        (None, 224, 224, 64)      36928     \n",
            "_________________________________________________________________\n",
            "block1_pool (MaxPooling2D)   (None, 112, 112, 64)      0         \n",
            "_________________________________________________________________\n",
            "block2_conv1 (Conv2D)        (None, 112, 112, 128)     73856     \n",
            "_________________________________________________________________\n",
            "block2_conv2 (Conv2D)        (None, 112, 112, 128)     147584    \n",
            "_________________________________________________________________\n",
            "block2_pool (MaxPooling2D)   (None, 56, 56, 128)       0         \n",
            "_________________________________________________________________\n",
            "block3_conv1 (Conv2D)        (None, 56, 56, 256)       295168    \n",
            "_________________________________________________________________\n",
            "block3_conv2 (Conv2D)        (None, 56, 56, 256)       590080    \n",
            "_________________________________________________________________\n",
            "block3_conv3 (Conv2D)        (None, 56, 56, 256)       590080    \n",
            "_________________________________________________________________\n",
            "block3_pool (MaxPooling2D)   (None, 28, 28, 256)       0         \n",
            "_________________________________________________________________\n",
            "block4_conv1 (Conv2D)        (None, 28, 28, 512)       1180160   \n",
            "_________________________________________________________________\n",
            "block4_conv2 (Conv2D)        (None, 28, 28, 512)       2359808   \n",
            "_________________________________________________________________\n",
            "block4_conv3 (Conv2D)        (None, 28, 28, 512)       2359808   \n",
            "_________________________________________________________________\n",
            "block4_pool (MaxPooling2D)   (None, 14, 14, 512)       0         \n",
            "_________________________________________________________________\n",
            "block5_conv1 (Conv2D)        (None, 14, 14, 512)       2359808   \n",
            "_________________________________________________________________\n",
            "block5_conv2 (Conv2D)        (None, 14, 14, 512)       2359808   \n",
            "_________________________________________________________________\n",
            "block5_conv3 (Conv2D)        (None, 14, 14, 512)       2359808   \n",
            "_________________________________________________________________\n",
            "block5_pool (MaxPooling2D)   (None, 7, 7, 512)         0         \n",
            "_________________________________________________________________\n",
            "flatten_1 (Flatten)          (None, 25088)             0         \n",
            "_________________________________________________________________\n",
            "dense_1 (Dense)              (None, 1024)              25691136  \n",
            "_________________________________________________________________\n",
            "dense_2 (Dense)              (None, 1)                 1025      \n",
            "=================================================================\n",
            "Total params: 40,406,849\n",
            "Trainable params: 25,692,161\n",
            "Non-trainable params: 14,714,688\n",
            "_________________________________________________________________\n"
          ],
          "name": "stdout"
        }
      ]
    },
    {
      "cell_type": "code",
      "metadata": {
        "id": "Ssow7729_LNd",
        "colab_type": "code",
        "colab": {
          "base_uri": "https://localhost:8080/",
          "height": 783
        },
        "outputId": "cad85e06-880d-457e-d256-029b59947a13"
      },
      "source": [
        "checkpoint = keras.callbacks.ModelCheckpoint(\"/content/drive/My Drive/BCI982/model.h5\", monitor='val_acc', save_best_only=True, mode='max')\n",
        "model.compile(optimizer=\"adam\", loss=\"binary_crossentropy\", metrics=['accuracy']) \n",
        "model.fit(X_train, y_train, epochs=20, validation_data=(X_val, y_val), batch_size = 16, callbacks=[checkpoint])\n",
        "model.save('/content/drive/My Drive/BCI982/mainModel.h5' ) "
      ],
      "execution_count": null,
      "outputs": [
        {
          "output_type": "stream",
          "text": [
            "Train on 160 samples, validate on 20 samples\n",
            "Epoch 1/20\n",
            "160/160 [==============================] - 2s 14ms/step - loss: 2.3484 - accuracy: 0.6938 - val_loss: 0.2604 - val_accuracy: 0.9000\n",
            "Epoch 2/20\n",
            " 16/160 [==>...........................] - ETA: 1s - loss: 0.0231 - accuracy: 1.0000"
          ],
          "name": "stdout"
        },
        {
          "output_type": "stream",
          "text": [
            "/usr/local/lib/python3.6/dist-packages/keras/callbacks/callbacks.py:707: RuntimeWarning: Can save best model only with val_acc available, skipping.\n",
            "  'skipping.' % (self.monitor), RuntimeWarning)\n"
          ],
          "name": "stderr"
        },
        {
          "output_type": "stream",
          "text": [
            "160/160 [==============================] - 2s 13ms/step - loss: 0.3660 - accuracy: 0.9312 - val_loss: 0.1597 - val_accuracy: 0.9000\n",
            "Epoch 3/20\n",
            "160/160 [==============================] - 2s 13ms/step - loss: 0.0177 - accuracy: 0.9937 - val_loss: 0.5271 - val_accuracy: 0.9000\n",
            "Epoch 4/20\n",
            "160/160 [==============================] - 2s 13ms/step - loss: 1.7086e-04 - accuracy: 1.0000 - val_loss: 0.4339 - val_accuracy: 0.9000\n",
            "Epoch 5/20\n",
            "160/160 [==============================] - 2s 13ms/step - loss: 1.2884e-04 - accuracy: 1.0000 - val_loss: 0.3896 - val_accuracy: 0.9000\n",
            "Epoch 6/20\n",
            "160/160 [==============================] - 2s 13ms/step - loss: 9.3385e-05 - accuracy: 1.0000 - val_loss: 0.3699 - val_accuracy: 0.9000\n",
            "Epoch 7/20\n",
            "160/160 [==============================] - 2s 13ms/step - loss: 8.1471e-05 - accuracy: 1.0000 - val_loss: 0.3555 - val_accuracy: 0.9000\n",
            "Epoch 8/20\n",
            "160/160 [==============================] - 2s 13ms/step - loss: 6.4629e-05 - accuracy: 1.0000 - val_loss: 0.3526 - val_accuracy: 0.9000\n",
            "Epoch 9/20\n",
            "160/160 [==============================] - 2s 13ms/step - loss: 5.4724e-05 - accuracy: 1.0000 - val_loss: 0.3526 - val_accuracy: 0.9000\n",
            "Epoch 10/20\n",
            "160/160 [==============================] - 2s 13ms/step - loss: 4.8534e-05 - accuracy: 1.0000 - val_loss: 0.3527 - val_accuracy: 0.9000\n",
            "Epoch 11/20\n",
            "160/160 [==============================] - 2s 13ms/step - loss: 4.3722e-05 - accuracy: 1.0000 - val_loss: 0.3525 - val_accuracy: 0.9000\n",
            "Epoch 12/20\n",
            "160/160 [==============================] - 2s 13ms/step - loss: 4.0073e-05 - accuracy: 1.0000 - val_loss: 0.3515 - val_accuracy: 0.9000\n",
            "Epoch 13/20\n",
            "160/160 [==============================] - 2s 13ms/step - loss: 3.7152e-05 - accuracy: 1.0000 - val_loss: 0.3492 - val_accuracy: 0.9000\n",
            "Epoch 14/20\n",
            "160/160 [==============================] - 2s 13ms/step - loss: 3.5148e-05 - accuracy: 1.0000 - val_loss: 0.3500 - val_accuracy: 0.9000\n",
            "Epoch 15/20\n",
            "160/160 [==============================] - 2s 13ms/step - loss: 3.2610e-05 - accuracy: 1.0000 - val_loss: 0.3516 - val_accuracy: 0.9000\n",
            "Epoch 16/20\n",
            "160/160 [==============================] - 2s 13ms/step - loss: 3.0846e-05 - accuracy: 1.0000 - val_loss: 0.3494 - val_accuracy: 0.9000\n",
            "Epoch 17/20\n",
            "160/160 [==============================] - 2s 13ms/step - loss: 2.8827e-05 - accuracy: 1.0000 - val_loss: 0.3487 - val_accuracy: 0.9000\n",
            "Epoch 18/20\n",
            "160/160 [==============================] - 2s 13ms/step - loss: 2.7738e-05 - accuracy: 1.0000 - val_loss: 0.3468 - val_accuracy: 0.9000\n",
            "Epoch 19/20\n",
            "160/160 [==============================] - 2s 13ms/step - loss: 2.6428e-05 - accuracy: 1.0000 - val_loss: 0.3461 - val_accuracy: 0.9000\n",
            "Epoch 20/20\n",
            "160/160 [==============================] - 2s 13ms/step - loss: 2.5081e-05 - accuracy: 1.0000 - val_loss: 0.3448 - val_accuracy: 0.9000\n"
          ],
          "name": "stdout"
        }
      ]
    },
    {
      "cell_type": "code",
      "metadata": {
        "id": "XNHciAzV_Yfu",
        "colab_type": "code",
        "colab": {}
      },
      "source": [
        "model = load_model('/content/drive/My Drive/BCI982/mainModel.h5')\n"
      ],
      "execution_count": null,
      "outputs": []
    },
    {
      "cell_type": "code",
      "metadata": {
        "id": "eMqhnFtO_X8U",
        "colab_type": "code",
        "colab": {
          "base_uri": "https://localhost:8080/",
          "height": 87
        },
        "outputId": "8e3debe7-ed2a-4386-dfd5-7125a570da3d"
      },
      "source": [
        "_, acc = model.evaluate(X_train, y_train)\n",
        "print('Train Accuracy: %.2f' % (acc*100))\n",
        "_, acc = model.evaluate(X_test, y_test)\n",
        "print('Test Accuracy: %.2f' % (acc*100))"
      ],
      "execution_count": null,
      "outputs": [
        {
          "output_type": "stream",
          "text": [
            "160/160 [==============================] - 10s 62ms/step\n",
            "Train Accuracy: 97.50\n",
            "20/20 [==============================] - 2s 114ms/step\n",
            "Test Accuracy: 100.00\n"
          ],
          "name": "stdout"
        }
      ]
    },
    {
      "cell_type": "code",
      "metadata": {
        "id": "gXXvVpEF_8rZ",
        "colab_type": "code",
        "colab": {}
      },
      "source": [
        "def cats_vs_dogs_classifier(address):\n",
        "    answer = None\n",
        "    try:\n",
        "        img= Image.open(address).convert('RGB')\n",
        "        img = img.resize((224, 224))\n",
        "        img= np.array(img) / 255.\n",
        "        if img.shape == (224,224,3):\n",
        "            prediction = model.predict(np.array([img]))[0][0]\n",
        "            answer = 'Cat' if round(prediction) == 0 else 'Dog'\n",
        "            answer = 'it is a ' + answer + '!'\n",
        "    except:\n",
        "        print(\"ignored loading\", each)\n",
        "    return answer"
      ],
      "execution_count": null,
      "outputs": []
    },
    {
      "cell_type": "code",
      "metadata": {
        "id": "H51_JxqrAMc3",
        "colab_type": "code",
        "colab": {
          "base_uri": "https://localhost:8080/",
          "height": 35
        },
        "outputId": "b58d3649-e093-4e43-d92a-edb654e3a5bd"
      },
      "source": [
        "test_img_address = 'a.jpg'\n",
        "print(cats_vs_dogs_classifier(test_img_address))"
      ],
      "execution_count": null,
      "outputs": [
        {
          "output_type": "stream",
          "text": [
            "it is a Dog!\n"
          ],
          "name": "stdout"
        }
      ]
    },
    {
      "cell_type": "code",
      "metadata": {
        "id": "3zT2s4N-I5mc",
        "colab_type": "code",
        "colab": {}
      },
      "source": [
        ""
      ],
      "execution_count": null,
      "outputs": []
    }
  ]
}